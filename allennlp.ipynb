{
  "nbformat": 4,
  "nbformat_minor": 0,
  "metadata": {
    "colab": {
      "name": "Untitled0.ipynb",
      "version": "0.3.2",
      "provenance": []
    },
    "kernelspec": {
      "name": "python3",
      "display_name": "Python 3"
    }
  },
  "cells": [
    {
      "metadata": {
        "id": "UtDLnTeHd4gR",
        "colab_type": "text"
      },
      "cell_type": "markdown",
      "source": [
        "### Testing some functionality of AllenNLP"
      ]
    },
    {
      "metadata": {
        "id": "1r21_gAfd1w7",
        "colab_type": "code",
        "colab": {}
      },
      "cell_type": "code",
      "source": [
        "!pip install allennlp"
      ],
      "execution_count": 0,
      "outputs": []
    },
    {
      "metadata": {
        "id": "GTc65wzlzySx",
        "colab_type": "code",
        "colab": {}
      },
      "cell_type": "code",
      "source": [
        ""
      ],
      "execution_count": 0,
      "outputs": []
    },
    {
      "metadata": {
        "id": "1u9_lu8AzzNZ",
        "colab_type": "text"
      },
      "cell_type": "markdown",
      "source": [
        "the shortcuts dont seem to work"
      ]
    }
  ]
}